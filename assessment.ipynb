{
 "cells": [
  {
   "cell_type": "markdown",
   "metadata": {},
   "source": [
    "# Objectives\n",
    "YW\n",
    "* scrape a website for relevant information, store that information to a dataframe and save that dataframe as a csv file\n",
    "* load in a dataframe and do the following\n",
    "    * calculate the zscores of a given column\n",
    "    * calculate the zscores of a point from a given column in the dataframe\n",
    "    * calculate and plot the pmf and cdf of another column"
   ]
  },
  {
   "cell_type": "markdown",
   "metadata": {},
   "source": [
    "# Part 1 - Webscraping\n",
    "* use the following url scrape the first page of results\n",
    "* for each item get the name of the item\n",
    "* store the names to a dataframe and save that dataframe to csv then display\n",
    "    * store the dataframe in the `data` folder in the repo\n",
    "    * name the file `part1.csv` and make sure that when you write it you set `index=False`\n",
    "* the head of the dataframe\n",
    "\n",
    "* it should match the following\n",
    "<img src=\"solutions/images/part1.png\"/>"
   ]
  },
  {
   "cell_type": "code",
   "execution_count": 74,
   "metadata": {},
   "outputs": [],
   "source": [
    "import pandas as pd\n",
    "import requests\n",
    "from bs4 import BeautifulSoup\n",
    "import matplotlib.pyplot as plt\n",
    "%matplotlib inline\n",
    "import seaborn as sns\n",
    "import numpy as np"
   ]
  },
  {
   "cell_type": "code",
   "execution_count": 4,
   "metadata": {},
   "outputs": [],
   "source": [
    "url = \"https://www.petsmart.com/dog/treats/dental-treats/#page_name=flyout&category=dog&cta=dentaltreat\""
   ]
  },
  {
   "cell_type": "code",
   "execution_count": 6,
   "metadata": {},
   "outputs": [
    {
     "data": {
      "text/plain": [
       "200"
      ]
     },
     "execution_count": 6,
     "metadata": {},
     "output_type": "execute_result"
    }
   ],
   "source": [
    "response = requests.request(\"GET\", url)\n",
    "response.status_code\n"
   ]
  },
  {
   "cell_type": "code",
   "execution_count": 8,
   "metadata": {},
   "outputs": [],
   "source": [
    "# scrape the data\n",
    "web_soup = BeautifulSoup(response.content, 'html.parser')"
   ]
  },
  {
   "cell_type": "code",
   "execution_count": 15,
   "metadata": {},
   "outputs": [],
   "source": [
    "r_list = web_soup.find_all('div', attrs={'class':'product-name'})\n",
    "r = r_list[0].find('h3').text"
   ]
  },
  {
   "cell_type": "code",
   "execution_count": 20,
   "metadata": {},
   "outputs": [
    {
     "data": {
      "text/plain": [
       "[{'name': 'Greenies Regular Dental Dog Treats'},\n",
       " {'name': 'Greenies Petite Dental Dog Treats'},\n",
       " {'name': 'Greenies Large Dental Dog Treats'},\n",
       " {'name': 'Pedigree Dentastix Large Dog Treats'},\n",
       " {'name': 'Greenies 6 Month+ Puppy Petite Dental Dog Treats'},\n",
       " {'name': 'Greenies 6 Month+ Puppy Dental Dog Treats'},\n",
       " {'name': 'Greenies 6 Month+ Puppy Teenie Dental Dog Treats'},\n",
       " {'name': 'Greenies Teenie Dental Dog Treats'},\n",
       " {'name': 'Authority® Dental & DHA Stick Puppy Treats Parsley Mint - Gluten Free, Grain Free'},\n",
       " {'name': 'Pedigree Dentastix Large Dog Sticks'},\n",
       " {'name': 'Milk-Bone Brushing Chews Large Dental Dog Treats'},\n",
       " {'name': 'Pedigree Dentastix Small/Medium Dog Sticks'},\n",
       " {'name': 'Pedigree Dentastix Triple Action Dental Dog Treats - Variety Pack'},\n",
       " {'name': 'WHIMZEES Variety Value Box Dental Dog Treat - Natural, Grain Free'},\n",
       " {'name': 'Pedigree Dentastix Mini Dog Sticks'},\n",
       " {'name': 'Virbac® C.E.T.® VeggieDent® Tartar Control Dog Chews'},\n",
       " {'name': 'Milk-Bone Brushing Chews Dental Dog Treat'},\n",
       " {'name': 'Authority® Dental & DHA Rings Puppy Treats Parsley Mint - Gluten Free, Grain Free'},\n",
       " {'name': 'Pedigree Dentastix Large Dog Sticks'},\n",
       " {'name': 'Greenies Teenie Dog Dental Treats - Blueberry'},\n",
       " {'name': 'Pedigree Dentastix Triple Action Small Dog Treats - Fresh'},\n",
       " {'name': 'Milk-Bone Brushing Chew Mini Dental Dog Treats'},\n",
       " {'name': 'Authority Dental & Multivitamin Large Dog Treats Parsley Mint - Gluten Free, Grain Free'},\n",
       " {'name': 'Greenies Aging Care Dental Dog Treats, 27 oz'},\n",
       " {'name': 'Authority Dental & Multivitamin Small Dog Treats Parsley Mint - Gluten Free, Grain Free'},\n",
       " {'name': 'Authority® Dental & Multivitamin Medium Dog Treats Parsley Mint - Gluten Free, Grain Free'},\n",
       " {'name': 'Greenies Regular Dog Dental Treats - Blueberry'},\n",
       " {'name': 'Merrick® Fresh Kisses™ Double-Brush Large Dental Dog Treat - Mint Breath Strips'},\n",
       " {'name': 'Blue Buffalo Dental Bones Large Dog Treats - Natural'},\n",
       " {'name': 'Greenies Teenie Dental Dog Treats - Fresh'},\n",
       " {'name': 'WHIMZEES Brushzees Extra Small Dental Dog Treat - Natural, Grain Free'},\n",
       " {'name': 'Greenies Grain Free Teenie Dental Dog Treats'},\n",
       " {'name': 'Pedigree Dentastix Dual Flavor Large Dental Dog Treats'},\n",
       " {'name': 'Greenies Petite Dental Dog Treats - Blueberry'},\n",
       " {'name': 'Merrick® Fresh Kisses™ Double-Brush Small Dental Dog Treat - Mint Breath Strips'},\n",
       " {'name': 'WHIMZEES Brushzees Medium Dental Dog Treat - Natural, Grain Free'}]"
      ]
     },
     "execution_count": 20,
     "metadata": {},
     "output_type": "execute_result"
    }
   ],
   "source": [
    "data = []\n",
    "for item in r_list:\n",
    "    product = {}\n",
    "    product['name'] = item.find('h3').text\n",
    "    data.append(product)\n",
    "data"
   ]
  },
  {
   "cell_type": "code",
   "execution_count": 21,
   "metadata": {},
   "outputs": [],
   "source": [
    "# load the data into a dataframe file\n",
    "doggy_data = pd.DataFrame(data)"
   ]
  },
  {
   "cell_type": "code",
   "execution_count": 22,
   "metadata": {},
   "outputs": [],
   "source": [
    "# save the data as a csv file\n",
    "doggy_data.to_csv('dog_dental', index = False)"
   ]
  },
  {
   "cell_type": "code",
   "execution_count": 23,
   "metadata": {},
   "outputs": [
    {
     "data": {
      "text/html": [
       "<div>\n",
       "<style scoped>\n",
       "    .dataframe tbody tr th:only-of-type {\n",
       "        vertical-align: middle;\n",
       "    }\n",
       "\n",
       "    .dataframe tbody tr th {\n",
       "        vertical-align: top;\n",
       "    }\n",
       "\n",
       "    .dataframe thead th {\n",
       "        text-align: right;\n",
       "    }\n",
       "</style>\n",
       "<table border=\"1\" class=\"dataframe\">\n",
       "  <thead>\n",
       "    <tr style=\"text-align: right;\">\n",
       "      <th></th>\n",
       "      <th>name</th>\n",
       "    </tr>\n",
       "  </thead>\n",
       "  <tbody>\n",
       "    <tr>\n",
       "      <td>0</td>\n",
       "      <td>Greenies Regular Dental Dog Treats</td>\n",
       "    </tr>\n",
       "    <tr>\n",
       "      <td>1</td>\n",
       "      <td>Greenies Petite Dental Dog Treats</td>\n",
       "    </tr>\n",
       "    <tr>\n",
       "      <td>2</td>\n",
       "      <td>Greenies Large Dental Dog Treats</td>\n",
       "    </tr>\n",
       "    <tr>\n",
       "      <td>3</td>\n",
       "      <td>Pedigree Dentastix Large Dog Treats</td>\n",
       "    </tr>\n",
       "    <tr>\n",
       "      <td>4</td>\n",
       "      <td>Greenies 6 Month+ Puppy Petite Dental Dog Treats</td>\n",
       "    </tr>\n",
       "  </tbody>\n",
       "</table>\n",
       "</div>"
      ],
      "text/plain": [
       "                                               name\n",
       "0                Greenies Regular Dental Dog Treats\n",
       "1                 Greenies Petite Dental Dog Treats\n",
       "2                  Greenies Large Dental Dog Treats\n",
       "3               Pedigree Dentastix Large Dog Treats\n",
       "4  Greenies 6 Month+ Puppy Petite Dental Dog Treats"
      ]
     },
     "execution_count": 23,
     "metadata": {},
     "output_type": "execute_result"
    }
   ],
   "source": [
    "# display df.head()\n",
    "doggy_data.head()"
   ]
  },
  {
   "cell_type": "markdown",
   "metadata": {},
   "source": [
    "# Part 2\n",
    "\n",
    "load in the csv file located in the `data` folder called `part2.csv`\n",
    "\n",
    "create a function that calculates the zscores of an array\n",
    "\n",
    "then calculate the zscores for each column in part2.csv and add them as columns\n",
    "\n",
    "See below for final result\n",
    "\n",
    "<img src=\"solutions/images/part2_df_preview.png\"/>"
   ]
  },
  {
   "cell_type": "code",
   "execution_count": 25,
   "metadata": {},
   "outputs": [
    {
     "data": {
      "text/html": [
       "<div>\n",
       "<style scoped>\n",
       "    .dataframe tbody tr th:only-of-type {\n",
       "        vertical-align: middle;\n",
       "    }\n",
       "\n",
       "    .dataframe tbody tr th {\n",
       "        vertical-align: top;\n",
       "    }\n",
       "\n",
       "    .dataframe thead th {\n",
       "        text-align: right;\n",
       "    }\n",
       "</style>\n",
       "<table border=\"1\" class=\"dataframe\">\n",
       "  <thead>\n",
       "    <tr style=\"text-align: right;\">\n",
       "      <th></th>\n",
       "      <th>salaries</th>\n",
       "      <th>NPS Score</th>\n",
       "      <th>eventOutcome</th>\n",
       "    </tr>\n",
       "  </thead>\n",
       "  <tbody>\n",
       "    <tr>\n",
       "      <td>0</td>\n",
       "      <td>44112.0</td>\n",
       "      <td>-7.0</td>\n",
       "      <td>1</td>\n",
       "    </tr>\n",
       "    <tr>\n",
       "      <td>1</td>\n",
       "      <td>46777.0</td>\n",
       "      <td>-12.0</td>\n",
       "      <td>2</td>\n",
       "    </tr>\n",
       "    <tr>\n",
       "      <td>2</td>\n",
       "      <td>50013.0</td>\n",
       "      <td>50.0</td>\n",
       "      <td>5</td>\n",
       "    </tr>\n",
       "    <tr>\n",
       "      <td>3</td>\n",
       "      <td>48983.0</td>\n",
       "      <td>-13.0</td>\n",
       "      <td>0</td>\n",
       "    </tr>\n",
       "    <tr>\n",
       "      <td>4</td>\n",
       "      <td>50751.0</td>\n",
       "      <td>-11.0</td>\n",
       "      <td>6</td>\n",
       "    </tr>\n",
       "  </tbody>\n",
       "</table>\n",
       "</div>"
      ],
      "text/plain": [
       "   salaries  NPS Score  eventOutcome\n",
       "0   44112.0       -7.0             1\n",
       "1   46777.0      -12.0             2\n",
       "2   50013.0       50.0             5\n",
       "3   48983.0      -13.0             0\n",
       "4   50751.0      -11.0             6"
      ]
     },
     "execution_count": 25,
     "metadata": {},
     "output_type": "execute_result"
    }
   ],
   "source": [
    "df = pd.read_csv('data/part2.csv')\n",
    "df.head()"
   ]
  },
  {
   "cell_type": "code",
   "execution_count": 29,
   "metadata": {},
   "outputs": [],
   "source": [
    "# create a function that calculates the zscores of an array\n",
    "def get_z(x):\n",
    "    mean = x.mean()\n",
    "    std = x.std()\n",
    "    zscore = []\n",
    "    for item in x:\n",
    "        zscore.append((item-mean)/std)\n",
    "    return zscore"
   ]
  },
  {
   "cell_type": "code",
   "execution_count": 32,
   "metadata": {},
   "outputs": [
    {
     "data": {
      "text/html": [
       "<div>\n",
       "<style scoped>\n",
       "    .dataframe tbody tr th:only-of-type {\n",
       "        vertical-align: middle;\n",
       "    }\n",
       "\n",
       "    .dataframe tbody tr th {\n",
       "        vertical-align: top;\n",
       "    }\n",
       "\n",
       "    .dataframe thead th {\n",
       "        text-align: right;\n",
       "    }\n",
       "</style>\n",
       "<table border=\"1\" class=\"dataframe\">\n",
       "  <thead>\n",
       "    <tr style=\"text-align: right;\">\n",
       "      <th></th>\n",
       "      <th>salaries</th>\n",
       "      <th>NPS Score</th>\n",
       "      <th>eventOutcome</th>\n",
       "      <th>salaries_zscores</th>\n",
       "      <th>NPS Score_zscores</th>\n",
       "      <th>eventOutcome_zscores</th>\n",
       "    </tr>\n",
       "  </thead>\n",
       "  <tbody>\n",
       "    <tr>\n",
       "      <td>0</td>\n",
       "      <td>44112.0</td>\n",
       "      <td>-7.0</td>\n",
       "      <td>1</td>\n",
       "      <td>-1.460155</td>\n",
       "      <td>-0.913522</td>\n",
       "      <td>-1.103166</td>\n",
       "    </tr>\n",
       "    <tr>\n",
       "      <td>1</td>\n",
       "      <td>46777.0</td>\n",
       "      <td>-12.0</td>\n",
       "      <td>2</td>\n",
       "      <td>-0.793981</td>\n",
       "      <td>-1.080668</td>\n",
       "      <td>-0.668095</td>\n",
       "    </tr>\n",
       "    <tr>\n",
       "      <td>2</td>\n",
       "      <td>50013.0</td>\n",
       "      <td>50.0</td>\n",
       "      <td>5</td>\n",
       "      <td>0.014926</td>\n",
       "      <td>0.991947</td>\n",
       "      <td>0.637118</td>\n",
       "    </tr>\n",
       "    <tr>\n",
       "      <td>3</td>\n",
       "      <td>48983.0</td>\n",
       "      <td>-13.0</td>\n",
       "      <td>0</td>\n",
       "      <td>-0.242545</td>\n",
       "      <td>-1.114097</td>\n",
       "      <td>-1.538237</td>\n",
       "    </tr>\n",
       "    <tr>\n",
       "      <td>4</td>\n",
       "      <td>50751.0</td>\n",
       "      <td>-11.0</td>\n",
       "      <td>6</td>\n",
       "      <td>0.199405</td>\n",
       "      <td>-1.047239</td>\n",
       "      <td>1.072189</td>\n",
       "    </tr>\n",
       "  </tbody>\n",
       "</table>\n",
       "</div>"
      ],
      "text/plain": [
       "   salaries  NPS Score  eventOutcome  salaries_zscores  NPS Score_zscores  \\\n",
       "0   44112.0       -7.0             1         -1.460155          -0.913522   \n",
       "1   46777.0      -12.0             2         -0.793981          -1.080668   \n",
       "2   50013.0       50.0             5          0.014926           0.991947   \n",
       "3   48983.0      -13.0             0         -0.242545          -1.114097   \n",
       "4   50751.0      -11.0             6          0.199405          -1.047239   \n",
       "\n",
       "   eventOutcome_zscores  \n",
       "0             -1.103166  \n",
       "1             -0.668095  \n",
       "2              0.637118  \n",
       "3             -1.538237  \n",
       "4              1.072189  "
      ]
     },
     "execution_count": 32,
     "metadata": {},
     "output_type": "execute_result"
    }
   ],
   "source": [
    "# calculate the zscore for each column and store them as a new column with the names used above\n",
    "df['salaries_zscores'] = get_z(df['salaries'])\n",
    "df['NPS Score_zscores'] = get_z(df['NPS Score'])\n",
    "df['eventOutcome_zscores'] = get_z(df['eventOutcome'])\n",
    "df.head()"
   ]
  },
  {
   "cell_type": "markdown",
   "metadata": {},
   "source": [
    "# Part 3 \n",
    "plot 'salaries' and 'NPS Score' on a subplot (1 row 2 columns) \n",
    "then repeat this for the zscores\n",
    "\n",
    "see image below for reference\n",
    "<img src=\"solutions/images/part2-plots.png\"/>"
   ]
  },
  {
   "cell_type": "code",
   "execution_count": 45,
   "metadata": {},
   "outputs": [
    {
     "data": {
      "image/png": "[encoded data removed]",
      "text/plain": [
       "<Figure size 1080x504 with 2 Axes>"
      ]
     },
     "metadata": {
      "needs_background": "light"
     },
     "output_type": "display_data"
    }
   ],
   "source": [
    "# plot for raw salaries and NPS Score data goes here\n",
    "fig = plt.figure(figsize = (15, 7))\n",
    "ax1 = fig.add_subplot(121)\n",
    "ax1.set_title('salaries')\n",
    "ax1.set_xlabel('salaries')\n",
    "ax1.set_ylabel('Frequency')\n",
    "ax2 = fig.add_subplot(122)\n",
    "ax2.set_title('NPS Scores')\n",
    "ax2.set_xlabel('NPS Scores')\n",
    "ax2.set_ylabel('Frequency')\n",
    "ax1.hist(df['salaries'], bins = 10)\n",
    "ax2.hist(df['NPS Score'], bins = 10)\n",
    "plt.show()"
   ]
  },
  {
   "cell_type": "code",
   "execution_count": 47,
   "metadata": {},
   "outputs": [
    {
     "data": {
      "image/png": "[encoded data removed]",
      "text/plain": [
       "<Figure size 1080x504 with 2 Axes>"
      ]
     },
     "metadata": {
      "needs_background": "light"
     },
     "output_type": "display_data"
    }
   ],
   "source": [
    "# plot for zscores for salaries and NPS Score data goes here\n",
    "fig = plt.figure(figsize = (15, 7))\n",
    "ax1 = fig.add_subplot(121)\n",
    "ax1.set_title('salaries zscores')\n",
    "ax1.set_xlabel('salaries_zscores')\n",
    "ax1.set_ylabel('Frequency')\n",
    "ax2 = fig.add_subplot(122)\n",
    "ax2.set_title('NPS Scores Z Scores')\n",
    "ax2.set_xlabel('NPS Scores_zscores')\n",
    "ax2.set_ylabel('Frequency')\n",
    "ax1.hist(df['salaries_zscores'], bins = 10)\n",
    "ax2.hist(df['NPS Score_zscores'], bins = 10)\n",
    "plt.show()"
   ]
  },
  {
   "cell_type": "markdown",
   "metadata": {},
   "source": [
    "# Part 4 - PMF\n",
    "using the column 'eventOutcomes'\n",
    "\n",
    "create a PMF and plot the PMF as a bar chart\n",
    "\n",
    "See image below for referenc\n",
    "\n",
    "<img src=\"solutions/images/part4_pmf.png\"/>"
   ]
  },
  {
   "cell_type": "code",
   "execution_count": 67,
   "metadata": {},
   "outputs": [
    {
     "name": "stdout",
     "output_type": "stream",
     "text": [
      "Counter({4: 666, 7: 661, 3: 636, 0: 624, 6: 622, 1: 608, 2: 592, 5: 591})\n"
     ]
    },
    {
     "data": {
      "text/plain": [
       "[0.122, 0.118, 0.118, 0.125, 0.124, 0.133, 0.127, 0.132]"
      ]
     },
     "execution_count": 67,
     "metadata": {},
     "output_type": "execute_result"
    }
   ],
   "source": [
    "import collections\n",
    "counts = collections.Counter(df['eventOutcome'])\n",
    "total = len(df['eventOutcome'])\n",
    "print(counts)\n",
    "pmf = []\n",
    "for key, val in counts.items():\n",
    "    pmf.append(round(val/total, 3))\n",
    "pmf"
   ]
  },
  {
   "cell_type": "code",
   "execution_count": 68,
   "metadata": {},
   "outputs": [
    {
     "data": {
      "image/png": "[encoded data removed]",
      "text/plain": [
       "<Figure size 432x288 with 1 Axes>"
      ]
     },
     "metadata": {
      "needs_background": "light"
     },
     "output_type": "display_data"
    }
   ],
   "source": [
    "plt.bar(counts.keys(), pmf)\n",
    "plt.title('Event Outcome PMF')\n",
    "plt.xlabel('Event Outcome')\n",
    "plt.ylabel('Probability')\n",
    "plt.show()"
   ]
  },
  {
   "cell_type": "markdown",
   "metadata": {},
   "source": [
    "# Part 5 - CDF\n",
    "plot the CDF of Event Outcomes as a scatter plot using the information above\n",
    "\n",
    "See image below for reference \n",
    "\n",
    "<img src=\"solutions/images/part5_cmf.png\"/>"
   ]
  },
  {
   "cell_type": "code",
   "execution_count": 69,
   "metadata": {},
   "outputs": [
    {
     "data": {
      "text/plain": [
       "[0.122, 0.24, 0.358, 0.483, 0.607, 0.74, 0.867, 0.999]"
      ]
     },
     "execution_count": 69,
     "metadata": {},
     "output_type": "execute_result"
    }
   ],
   "source": [
    "cdf = []\n",
    "counter = 0\n",
    "for x in pmf:\n",
    "    if len(cdf) >= 1:\n",
    "        cdf.append(x + cdf[counter])\n",
    "        counter += 1\n",
    "    else:\n",
    "        cdf.append(x)\n",
    "    \n",
    "cdf"
   ]
  },
  {
   "cell_type": "code",
   "execution_count": 71,
   "metadata": {},
   "outputs": [
    {
     "data": {
      "image/png": "[encoded data removed]",
      "text/plain": [
       "<Figure size 432x288 with 1 Axes>"
      ]
     },
     "metadata": {
      "needs_background": "light"
     },
     "output_type": "display_data"
    }
   ],
   "source": [
    "plt.scatter(counts.keys(), cdf)\n",
    "plt.title('Cumulative Mass Function for Event Outcome')\n",
    "plt.xlabel('Event Outcome')\n",
    "plt.ylabel('P(E<=N)')\n",
    "plt.show()"
   ]
  },
  {
   "cell_type": "markdown",
   "metadata": {},
   "source": [
    "I feel like that should have worked but dictionaries are apparently dicts"
   ]
  },
  {
   "cell_type": "code",
   "execution_count": 108,
   "metadata": {},
   "outputs": [
    {
     "name": "stdout",
     "output_type": "stream",
     "text": [
      "[624, 608, 592, 636, 666, 591, 622, 661]\n"
     ]
    },
    {
     "data": {
      "text/plain": [
       "[0.1248, 0.1216, 0.1184, 0.1272, 0.1332, 0.1182, 0.1244, 0.1322]"
      ]
     },
     "execution_count": 108,
     "metadata": {},
     "output_type": "execute_result"
    }
   ],
   "source": [
    "x = list(range(8))\n",
    "y = []\n",
    "for k in x:\n",
    "    y.append(counts[k])\n",
    "print(y)\n",
    "proby = []\n",
    "for item in y:\n",
    "    proby.append(item/total)\n",
    "proby"
   ]
  },
  {
   "cell_type": "code",
   "execution_count": 109,
   "metadata": {},
   "outputs": [
    {
     "data": {
      "image/png": "[encoded data removed]",
      "text/plain": [
       "<Figure size 432x288 with 1 Axes>"
      ]
     },
     "metadata": {
      "needs_background": "light"
     },
     "output_type": "display_data"
    }
   ],
   "source": [
    "plt.scatter(x, np.cumsum(proby))\n",
    "plt.title('Cumulative Mass Function for Event Outcome')\n",
    "plt.xlabel('Event Outcome')\n",
    "plt.ylabel('P(E<=N)')\n",
    "plt.show()"
   ]
  },
  {
   "cell_type": "markdown",
   "metadata": {},
   "source": [
    "# Bonus:\n",
    "* using np.where find salaries with zscores <= -2.0\n",
    "\n",
    "* calculate the skewness and kurtosis for the NPS Score column"
   ]
  },
  {
   "cell_type": "code",
   "execution_count": 110,
   "metadata": {},
   "outputs": [
    {
     "data": {
      "text/plain": [
       "(array([   0,    1,    2, ..., 4997, 4998, 4999], dtype=int64),)"
      ]
     },
     "execution_count": 110,
     "metadata": {},
     "output_type": "execute_result"
    }
   ],
   "source": [
    "# find salaries with zscores <= 2.0 \n",
    "np.where(df['salaries_zscores'] <= 2)"
   ]
  },
  {
   "cell_type": "code",
   "execution_count": 115,
   "metadata": {},
   "outputs": [
    {
     "name": "stdout",
     "output_type": "stream",
     "text": [
      "Skewness of NPS Score = 0.02450527688165856\n",
      "Kurtosis of NPS Score = -0.04212714461681166\n"
     ]
    }
   ],
   "source": [
    "# calculate skewness and kurtosis of NPS Score column\n",
    "from scipy.stats import kurtosis, skew\n",
    "print('Skewness of NPS Score =', skew(df['NPS Score']))\n",
    "print('Kurtosis of NPS Score =', kurtosis(df['NPS Score']))"
   ]
  },
  {
   "cell_type": "markdown",
   "metadata": {},
   "source": [
    "# run the cell below to convert your notebook to a README for assessment"
   ]
  },
  {
   "cell_type": "code",
   "execution_count": 116,
   "metadata": {},
   "outputs": [
    {
     "name": "stderr",
     "output_type": "stream",
     "text": [
      "[NbConvertApp] Converting notebook assessment.ipynb to markdown\n",
      "[NbConvertApp] Support files will be in assessment_files\\\n",
      "[NbConvertApp] Making directory assessment_files\n",
      "[NbConvertApp] Making directory assessment_files\n",
      "[NbConvertApp] Making directory assessment_files\n",
      "[NbConvertApp] Making directory assessment_files\n",
      "[NbConvertApp] Making directory assessment_files\n",
      "[NbConvertApp] Writing 12190 bytes to assessment.md\n"
     ]
    }
   ],
   "source": [
    "!jupyter nbconvert --to markdown assessment.ipynb && mv assessment.md README.md"
   ]
  },
  {
   "cell_type": "code",
   "execution_count": null,
   "metadata": {},
   "outputs": [],
   "source": []
  }
 ],
 "metadata": {
  "kernelspec": {
   "display_name": "Python [conda env:learn-env] *",
   "language": "python",
   "name": "conda-env-learn-env-py"
  },
  "language_info": {
   "codemirror_mode": {
    "name": "ipython",
    "version": 3
   },
   "file_extension": ".py",
   "mimetype": "text/x-python",
   "name": "python",
   "nbconvert_exporter": "python",
   "pygments_lexer": "ipython3",
   "version": "3.6.9"
  }
 },
 "nbformat": 4,
 "nbformat_minor": 2
}
